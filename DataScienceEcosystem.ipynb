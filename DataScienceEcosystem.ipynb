{
 "cells": [
  {
   "cell_type": "markdown",
   "id": "ac5dc986-2e81-4180-af8b-d57d52c41676",
   "metadata": {},
   "source": [
    "# Data Science Tools and Ecosystem"
   ]
  },
  {
   "cell_type": "markdown",
   "id": "af170af6-d421-4310-9923-82baa6581de9",
   "metadata": {},
   "source": [
    "In this notebook, Data Science Tools and Ecosystem are summarized."
   ]
  },
  {
   "cell_type": "markdown",
   "id": "ae8c7f00-6d95-4c0e-9b26-5e588087a811",
   "metadata": {},
   "source": [
    "<b>Objectives:\n",
    "* Learn about Jupyter Notebooks\n",
    "* Learn about R language for DS\n",
    "* Learn about using Python for DS\n"
   ]
  },
  {
   "cell_type": "markdown",
   "id": "ea0597a9-0e2f-4425-a0f9-24af2df992d5",
   "metadata": {},
   "source": [
    "Some popular languages to use in Jupyter Notebooks are the following:\n",
    "1. Python\n",
    "2. Julia\n",
    "3. Java Script\n",
    "4. R\n",
    "5. C#"
   ]
  },
  {
   "cell_type": "markdown",
   "id": "f99e00ce-ab7e-4219-b9f1-43f34858304b",
   "metadata": {},
   "source": [
    "Some Python libraries commonly used by Data Scientists include:\n",
    "1. mathplotlib\n",
    "2. numpy\n",
    "3. scipy\n",
    "4. pandas"
   ]
  },
  {
   "cell_type": "markdown",
   "id": "e5fbae76-386f-45f2-b4c0-50baa6a16c64",
   "metadata": {},
   "source": [
    "| Data Science Tools|\n",
    "|-------------------|\n",
    "|R|\n",
    "|Python|\n",
    "|Jupyter|"
   ]
  },
  {
   "cell_type": "markdown",
   "id": "c1452c8a-a357-4ab7-b3a4-240aa2e3d265",
   "metadata": {},
   "source": [
    "### Below are a few examples of evaluating arithmetic expressions in Python"
   ]
  },
  {
   "cell_type": "code",
   "execution_count": 1,
   "id": "55ec1487-c352-49d9-87ed-9251fd3f01cc",
   "metadata": {},
   "outputs": [
    {
     "data": {
      "text/plain": [
       "17"
      ]
     },
     "execution_count": 1,
     "metadata": {},
     "output_type": "execute_result"
    }
   ],
   "source": [
    "#This a simple arithmetic expression to mutiply then add integers\n",
    "(3*4)+5"
   ]
  },
  {
   "cell_type": "code",
   "execution_count": 2,
   "id": "5bdb8993-5b61-4576-a447-374aa6b7be0c",
   "metadata": {},
   "outputs": [
    {
     "name": "stdout",
     "output_type": "stream",
     "text": [
      "200m = 3.333h\n"
     ]
    }
   ],
   "source": [
    "#This will convert 200 minutes to hours by diving by 60\n",
    "minutes=200\n",
    "m2h_factor=1/60\n",
    "print(\"200m = {:.3f}h\".format(minutes*m2h_factor))"
   ]
  },
  {
   "cell_type": "markdown",
   "id": "61c1d074-c564-460f-8126-57b84bc61ee3",
   "metadata": {},
   "source": [
    "## Author\n",
    "Mike"
   ]
  },
  {
   "cell_type": "code",
   "execution_count": null,
   "id": "2e42b258-a058-4603-8faf-9e3c1e9db163",
   "metadata": {},
   "outputs": [],
   "source": []
  }
 ],
 "metadata": {
  "kernelspec": {
   "display_name": "Python 3 (ipykernel)",
   "language": "python",
   "name": "python3"
  },
  "language_info": {
   "codemirror_mode": {
    "name": "ipython",
    "version": 3
   },
   "file_extension": ".py",
   "mimetype": "text/x-python",
   "name": "python",
   "nbconvert_exporter": "python",
   "pygments_lexer": "ipython3",
   "version": "3.11.9"
  }
 },
 "nbformat": 4,
 "nbformat_minor": 5
}
